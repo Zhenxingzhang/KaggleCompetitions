{
 "cells": [
  {
   "cell_type": "code",
   "execution_count": 2,
   "metadata": {
    "collapsed": false
   },
   "outputs": [],
   "source": [
    "# import dependencies\n",
    "import pandas as pd\n",
    "import matplotlib.pyplot as plt\n",
    "%matplotlib inline"
   ]
  },
  {
   "cell_type": "code",
   "execution_count": 137,
   "metadata": {
    "collapsed": true
   },
   "outputs": [],
   "source": [
    "train_data = pd.read_csv(\"../Data/train.csv\")\n",
    "test_data = pd.read_csv(\"../Data/test.csv\")"
   ]
  },
  {
   "cell_type": "code",
   "execution_count": 5,
   "metadata": {
    "collapsed": false
   },
   "outputs": [
    {
     "data": {
      "text/html": [
       "<div>\n",
       "<table border=\"1\" class=\"dataframe\">\n",
       "  <thead>\n",
       "    <tr style=\"text-align: right;\">\n",
       "      <th></th>\n",
       "      <th>PassengerId</th>\n",
       "      <th>Survived</th>\n",
       "      <th>Pclass</th>\n",
       "      <th>Name</th>\n",
       "      <th>Sex</th>\n",
       "      <th>Age</th>\n",
       "      <th>SibSp</th>\n",
       "      <th>Parch</th>\n",
       "      <th>Ticket</th>\n",
       "      <th>Fare</th>\n",
       "      <th>Cabin</th>\n",
       "      <th>Embarked</th>\n",
       "    </tr>\n",
       "  </thead>\n",
       "  <tbody>\n",
       "    <tr>\n",
       "      <th>0</th>\n",
       "      <td>1</td>\n",
       "      <td>0</td>\n",
       "      <td>3</td>\n",
       "      <td>Braund, Mr. Owen Harris</td>\n",
       "      <td>male</td>\n",
       "      <td>22.0</td>\n",
       "      <td>1</td>\n",
       "      <td>0</td>\n",
       "      <td>A/5 21171</td>\n",
       "      <td>7.2500</td>\n",
       "      <td>NaN</td>\n",
       "      <td>S</td>\n",
       "    </tr>\n",
       "    <tr>\n",
       "      <th>1</th>\n",
       "      <td>2</td>\n",
       "      <td>1</td>\n",
       "      <td>1</td>\n",
       "      <td>Cumings, Mrs. John Bradley (Florence Briggs Th...</td>\n",
       "      <td>female</td>\n",
       "      <td>38.0</td>\n",
       "      <td>1</td>\n",
       "      <td>0</td>\n",
       "      <td>PC 17599</td>\n",
       "      <td>71.2833</td>\n",
       "      <td>C85</td>\n",
       "      <td>C</td>\n",
       "    </tr>\n",
       "    <tr>\n",
       "      <th>2</th>\n",
       "      <td>3</td>\n",
       "      <td>1</td>\n",
       "      <td>3</td>\n",
       "      <td>Heikkinen, Miss. Laina</td>\n",
       "      <td>female</td>\n",
       "      <td>26.0</td>\n",
       "      <td>0</td>\n",
       "      <td>0</td>\n",
       "      <td>STON/O2. 3101282</td>\n",
       "      <td>7.9250</td>\n",
       "      <td>NaN</td>\n",
       "      <td>S</td>\n",
       "    </tr>\n",
       "    <tr>\n",
       "      <th>3</th>\n",
       "      <td>4</td>\n",
       "      <td>1</td>\n",
       "      <td>1</td>\n",
       "      <td>Futrelle, Mrs. Jacques Heath (Lily May Peel)</td>\n",
       "      <td>female</td>\n",
       "      <td>35.0</td>\n",
       "      <td>1</td>\n",
       "      <td>0</td>\n",
       "      <td>113803</td>\n",
       "      <td>53.1000</td>\n",
       "      <td>C123</td>\n",
       "      <td>S</td>\n",
       "    </tr>\n",
       "    <tr>\n",
       "      <th>4</th>\n",
       "      <td>5</td>\n",
       "      <td>0</td>\n",
       "      <td>3</td>\n",
       "      <td>Allen, Mr. William Henry</td>\n",
       "      <td>male</td>\n",
       "      <td>35.0</td>\n",
       "      <td>0</td>\n",
       "      <td>0</td>\n",
       "      <td>373450</td>\n",
       "      <td>8.0500</td>\n",
       "      <td>NaN</td>\n",
       "      <td>S</td>\n",
       "    </tr>\n",
       "  </tbody>\n",
       "</table>\n",
       "</div>"
      ],
      "text/plain": [
       "   PassengerId  Survived  Pclass  \\\n",
       "0            1         0       3   \n",
       "1            2         1       1   \n",
       "2            3         1       3   \n",
       "3            4         1       1   \n",
       "4            5         0       3   \n",
       "\n",
       "                                                Name     Sex   Age  SibSp  \\\n",
       "0                            Braund, Mr. Owen Harris    male  22.0      1   \n",
       "1  Cumings, Mrs. John Bradley (Florence Briggs Th...  female  38.0      1   \n",
       "2                             Heikkinen, Miss. Laina  female  26.0      0   \n",
       "3       Futrelle, Mrs. Jacques Heath (Lily May Peel)  female  35.0      1   \n",
       "4                           Allen, Mr. William Henry    male  35.0      0   \n",
       "\n",
       "   Parch            Ticket     Fare Cabin Embarked  \n",
       "0      0         A/5 21171   7.2500   NaN        S  \n",
       "1      0          PC 17599  71.2833   C85        C  \n",
       "2      0  STON/O2. 3101282   7.9250   NaN        S  \n",
       "3      0            113803  53.1000  C123        S  \n",
       "4      0            373450   8.0500   NaN        S  "
      ]
     },
     "execution_count": 5,
     "metadata": {},
     "output_type": "execute_result"
    }
   ],
   "source": [
    "train_data.head()"
   ]
  },
  {
   "cell_type": "code",
   "execution_count": 6,
   "metadata": {
    "collapsed": false
   },
   "outputs": [
    {
     "name": "stdout",
     "output_type": "stream",
     "text": [
      "<class 'pandas.core.frame.DataFrame'>\n",
      "RangeIndex: 418 entries, 0 to 417\n",
      "Data columns (total 11 columns):\n",
      "PassengerId    418 non-null int64\n",
      "Pclass         418 non-null int64\n",
      "Name           418 non-null object\n",
      "Sex            418 non-null object\n",
      "Age            332 non-null float64\n",
      "SibSp          418 non-null int64\n",
      "Parch          418 non-null int64\n",
      "Ticket         418 non-null object\n",
      "Fare           417 non-null float64\n",
      "Cabin          91 non-null object\n",
      "Embarked       418 non-null object\n",
      "dtypes: float64(2), int64(4), object(5)\n",
      "memory usage: 36.0+ KB\n"
     ]
    }
   ],
   "source": [
    "test_data.info()"
   ]
  },
  {
   "cell_type": "code",
   "execution_count": 56,
   "metadata": {
    "collapsed": false,
    "scrolled": true
   },
   "outputs": [
    {
     "name": "stdout",
     "output_type": "stream",
     "text": [
      "Survived    0    1\n",
      "Sex               \n",
      "female     81  233\n",
      "male      468  109\n"
     ]
    },
    {
     "data": {
      "text/html": [
       "<div>\n",
       "<table border=\"1\" class=\"dataframe\">\n",
       "  <thead>\n",
       "    <tr style=\"text-align: right;\">\n",
       "      <th>Survived</th>\n",
       "      <th>0</th>\n",
       "      <th>1</th>\n",
       "    </tr>\n",
       "    <tr>\n",
       "      <th>Sex</th>\n",
       "      <th></th>\n",
       "      <th></th>\n",
       "    </tr>\n",
       "  </thead>\n",
       "  <tbody>\n",
       "    <tr>\n",
       "      <th>female</th>\n",
       "      <td>0.257962</td>\n",
       "      <td>0.742038</td>\n",
       "    </tr>\n",
       "    <tr>\n",
       "      <th>male</th>\n",
       "      <td>0.811092</td>\n",
       "      <td>0.188908</td>\n",
       "    </tr>\n",
       "  </tbody>\n",
       "</table>\n",
       "</div>"
      ],
      "text/plain": [
       "Survived         0         1\n",
       "Sex                         \n",
       "female    0.257962  0.742038\n",
       "male      0.811092  0.188908"
      ]
     },
     "execution_count": 56,
     "metadata": {},
     "output_type": "execute_result"
    },
    {
     "data": {
      "image/png": "[encoded data removed]",
      "text/plain": [
       "<matplotlib.figure.Figure at 0x113714b38>"
      ]
     },
     "metadata": {},
     "output_type": "display_data"
    }
   ],
   "source": [
    "survived_by_sex = pd.crosstab(train_data.Sex, train_data.Survived, margins=False)\n",
    "print(survived_by_sex)\n",
    "survived_by_sex.plot(kind = \"bar\", stacked = True, color = [\"red\", \"blue\"])\n",
    "survived_by_sex.apply(lambda r: r/r.sum(), axis=1)\n",
    "\n",
    "# TODO why [boolean array] return rows\n",
    "# survived_by_sex[1]"
   ]
  },
  {
   "cell_type": "code",
   "execution_count": 88,
   "metadata": {
    "collapsed": false
   },
   "outputs": [
    {
     "data": {
      "text/html": [
       "<div>\n",
       "<table border=\"1\" class=\"dataframe\">\n",
       "  <thead>\n",
       "    <tr style=\"text-align: right;\">\n",
       "      <th></th>\n",
       "      <th>Survived</th>\n",
       "      <th>0</th>\n",
       "      <th>1</th>\n",
       "    </tr>\n",
       "    <tr>\n",
       "      <th>Sex</th>\n",
       "      <th>Pclass</th>\n",
       "      <th></th>\n",
       "      <th></th>\n",
       "    </tr>\n",
       "  </thead>\n",
       "  <tbody>\n",
       "    <tr>\n",
       "      <th rowspan=\"3\" valign=\"top\">female</th>\n",
       "      <th>1</th>\n",
       "      <td>0.031915</td>\n",
       "      <td>0.968085</td>\n",
       "    </tr>\n",
       "    <tr>\n",
       "      <th>2</th>\n",
       "      <td>0.078947</td>\n",
       "      <td>0.921053</td>\n",
       "    </tr>\n",
       "    <tr>\n",
       "      <th>3</th>\n",
       "      <td>0.500000</td>\n",
       "      <td>0.500000</td>\n",
       "    </tr>\n",
       "    <tr>\n",
       "      <th rowspan=\"3\" valign=\"top\">male</th>\n",
       "      <th>1</th>\n",
       "      <td>0.631148</td>\n",
       "      <td>0.368852</td>\n",
       "    </tr>\n",
       "    <tr>\n",
       "      <th>2</th>\n",
       "      <td>0.842593</td>\n",
       "      <td>0.157407</td>\n",
       "    </tr>\n",
       "    <tr>\n",
       "      <th>3</th>\n",
       "      <td>0.864553</td>\n",
       "      <td>0.135447</td>\n",
       "    </tr>\n",
       "  </tbody>\n",
       "</table>\n",
       "</div>"
      ],
      "text/plain": [
       "Survived              0         1\n",
       "Sex    Pclass                    \n",
       "female 1       0.031915  0.968085\n",
       "       2       0.078947  0.921053\n",
       "       3       0.500000  0.500000\n",
       "male   1       0.631148  0.368852\n",
       "       2       0.842593  0.157407\n",
       "       3       0.864553  0.135447"
      ]
     },
     "execution_count": 88,
     "metadata": {},
     "output_type": "execute_result"
    },
    {
     "data": {
      "image/png": "[encoded data removed]",
      "text/plain": [
       "<matplotlib.figure.Figure at 0x114c88208>"
      ]
     },
     "metadata": {},
     "output_type": "display_data"
    }
   ],
   "source": [
    "survived_by_sex_and_Pclass = pd.crosstab([train_data.Sex, train_data.Pclass], train_data.Survived, margins=False)\n",
    "survived_by_sex_and_Pclass.plot(kind=\"bar\", stacked = True, color = [\"red\", \"blue\"])\n",
    "survived_by_sex_and_Pclass.apply(lambda x: x / x.sum(), axis=1)"
   ]
  },
  {
   "cell_type": "code",
   "execution_count": 89,
   "metadata": {
    "collapsed": false
   },
   "outputs": [
    {
     "data": {
      "text/plain": [
       "<matplotlib.axes._subplots.AxesSubplot at 0x114dd7908>"
      ]
     },
     "execution_count": 89,
     "metadata": {},
     "output_type": "execute_result"
    },
    {
     "data": {
      "image/png": "[encoded data removed]",
      "text/plain": [
       "<matplotlib.figure.Figure at 0x114ddd3c8>"
      ]
     },
     "metadata": {},
     "output_type": "display_data"
    }
   ],
   "source": [
    "# train_data.boxplot(column=\"Fare\", by=\"Sex\")\n",
    "# ax1 = plt.subplot(3,1,1)\n",
    "# ax1.set_title = \"Class 1\"\n",
    "# train_data.loc[(train_data.Pclass == 1) & train_data.Survived == 1][\"Fare\"].hist(bins = 20, color = \"red\", ax = ax1)\n",
    "# plt.subplot(3,1,2)\n",
    "# train_data.loc[train_data.Pclass == 2][\"Fare\"].hist(bins = 20)\n",
    "# plt.subplot(3,1,3)\n",
    "train_data.loc[(train_data.Sex == \"female\") & (train_data.Pclass == 3) & (train_data.Survived == 1)][\"Fare\"].hist(bins = 20, color = \"blue\")\n",
    "train_data.loc[(train_data.Sex == \"female\") & (train_data.Pclass == 3) & (train_data.Survived == 0)][\"Fare\"].hist(bins = 20, color = \"red\")"
   ]
  },
  {
   "cell_type": "code",
   "execution_count": 87,
   "metadata": {
    "collapsed": false
   },
   "outputs": [
    {
     "data": {
      "text/plain": [
       "0    28\n",
       "1     9\n",
       "Name: Survived, dtype: int64"
      ]
     },
     "execution_count": 87,
     "metadata": {},
     "output_type": "execute_result"
    }
   ],
   "source": [
    "train_data[(train_data.Sex == \"female\") & (train_data.Pclass == 3) & (train_data.Fare > 20)][\"Survived\"].value_counts()"
   ]
  },
  {
   "cell_type": "code",
   "execution_count": 92,
   "metadata": {
    "collapsed": false
   },
   "outputs": [
    {
     "data": {
      "text/html": [
       "<div>\n",
       "<table border=\"1\" class=\"dataframe\">\n",
       "  <thead>\n",
       "    <tr style=\"text-align: right;\">\n",
       "      <th></th>\n",
       "      <th></th>\n",
       "      <th>Survived</th>\n",
       "      <th>0</th>\n",
       "      <th>1</th>\n",
       "    </tr>\n",
       "    <tr>\n",
       "      <th>Sex</th>\n",
       "      <th>Pclass</th>\n",
       "      <th>Fare_class</th>\n",
       "      <th></th>\n",
       "      <th></th>\n",
       "    </tr>\n",
       "  </thead>\n",
       "  <tbody>\n",
       "    <tr>\n",
       "      <th rowspan=\"12\" valign=\"top\">female</th>\n",
       "      <th rowspan=\"4\" valign=\"top\">1</th>\n",
       "      <th>1</th>\n",
       "      <td>NaN</td>\n",
       "      <td>NaN</td>\n",
       "    </tr>\n",
       "    <tr>\n",
       "      <th>2</th>\n",
       "      <td>NaN</td>\n",
       "      <td>NaN</td>\n",
       "    </tr>\n",
       "    <tr>\n",
       "      <th>3</th>\n",
       "      <td>0.142857</td>\n",
       "      <td>0.857143</td>\n",
       "    </tr>\n",
       "    <tr>\n",
       "      <th>4</th>\n",
       "      <td>0.022989</td>\n",
       "      <td>0.977011</td>\n",
       "    </tr>\n",
       "    <tr>\n",
       "      <th rowspan=\"4\" valign=\"top\">2</th>\n",
       "      <th>1</th>\n",
       "      <td>NaN</td>\n",
       "      <td>NaN</td>\n",
       "    </tr>\n",
       "    <tr>\n",
       "      <th>2</th>\n",
       "      <td>0.085714</td>\n",
       "      <td>0.914286</td>\n",
       "    </tr>\n",
       "    <tr>\n",
       "      <th>3</th>\n",
       "      <td>0.096774</td>\n",
       "      <td>0.903226</td>\n",
       "    </tr>\n",
       "    <tr>\n",
       "      <th>4</th>\n",
       "      <td>0.000000</td>\n",
       "      <td>1.000000</td>\n",
       "    </tr>\n",
       "    <tr>\n",
       "      <th rowspan=\"4\" valign=\"top\">3</th>\n",
       "      <th>1</th>\n",
       "      <td>0.406250</td>\n",
       "      <td>0.593750</td>\n",
       "    </tr>\n",
       "    <tr>\n",
       "      <th>2</th>\n",
       "      <td>0.418605</td>\n",
       "      <td>0.581395</td>\n",
       "    </tr>\n",
       "    <tr>\n",
       "      <th>3</th>\n",
       "      <td>0.666667</td>\n",
       "      <td>0.333333</td>\n",
       "    </tr>\n",
       "    <tr>\n",
       "      <th>4</th>\n",
       "      <td>0.875000</td>\n",
       "      <td>0.125000</td>\n",
       "    </tr>\n",
       "    <tr>\n",
       "      <th rowspan=\"12\" valign=\"top\">male</th>\n",
       "      <th rowspan=\"4\" valign=\"top\">1</th>\n",
       "      <th>1</th>\n",
       "      <td>1.000000</td>\n",
       "      <td>0.000000</td>\n",
       "    </tr>\n",
       "    <tr>\n",
       "      <th>2</th>\n",
       "      <td>NaN</td>\n",
       "      <td>NaN</td>\n",
       "    </tr>\n",
       "    <tr>\n",
       "      <th>3</th>\n",
       "      <td>0.558824</td>\n",
       "      <td>0.441176</td>\n",
       "    </tr>\n",
       "    <tr>\n",
       "      <th>4</th>\n",
       "      <td>0.634146</td>\n",
       "      <td>0.365854</td>\n",
       "    </tr>\n",
       "    <tr>\n",
       "      <th rowspan=\"4\" valign=\"top\">2</th>\n",
       "      <th>1</th>\n",
       "      <td>NaN</td>\n",
       "      <td>NaN</td>\n",
       "    </tr>\n",
       "    <tr>\n",
       "      <th>2</th>\n",
       "      <td>0.841270</td>\n",
       "      <td>0.158730</td>\n",
       "    </tr>\n",
       "    <tr>\n",
       "      <th>3</th>\n",
       "      <td>0.840000</td>\n",
       "      <td>0.160000</td>\n",
       "    </tr>\n",
       "    <tr>\n",
       "      <th>4</th>\n",
       "      <td>0.785714</td>\n",
       "      <td>0.214286</td>\n",
       "    </tr>\n",
       "    <tr>\n",
       "      <th rowspan=\"4\" valign=\"top\">3</th>\n",
       "      <th>1</th>\n",
       "      <td>0.890625</td>\n",
       "      <td>0.109375</td>\n",
       "    </tr>\n",
       "    <tr>\n",
       "      <th>2</th>\n",
       "      <td>0.763158</td>\n",
       "      <td>0.236842</td>\n",
       "    </tr>\n",
       "    <tr>\n",
       "      <th>3</th>\n",
       "      <td>0.875000</td>\n",
       "      <td>0.125000</td>\n",
       "    </tr>\n",
       "    <tr>\n",
       "      <th>4</th>\n",
       "      <td>0.760000</td>\n",
       "      <td>0.240000</td>\n",
       "    </tr>\n",
       "  </tbody>\n",
       "</table>\n",
       "</div>"
      ],
      "text/plain": [
       "Survived                         0         1\n",
       "Sex    Pclass Fare_class                    \n",
       "female 1      1                NaN       NaN\n",
       "              2                NaN       NaN\n",
       "              3           0.142857  0.857143\n",
       "              4           0.022989  0.977011\n",
       "       2      1                NaN       NaN\n",
       "              2           0.085714  0.914286\n",
       "              3           0.096774  0.903226\n",
       "              4           0.000000  1.000000\n",
       "       3      1           0.406250  0.593750\n",
       "              2           0.418605  0.581395\n",
       "              3           0.666667  0.333333\n",
       "              4           0.875000  0.125000\n",
       "male   1      1           1.000000  0.000000\n",
       "              2                NaN       NaN\n",
       "              3           0.558824  0.441176\n",
       "              4           0.634146  0.365854\n",
       "       2      1                NaN       NaN\n",
       "              2           0.841270  0.158730\n",
       "              3           0.840000  0.160000\n",
       "              4           0.785714  0.214286\n",
       "       3      1           0.890625  0.109375\n",
       "              2           0.763158  0.236842\n",
       "              3           0.875000  0.125000\n",
       "              4           0.760000  0.240000"
      ]
     },
     "execution_count": 92,
     "metadata": {},
     "output_type": "execute_result"
    }
   ],
   "source": [
    "bins = [0, 10,20,30, 1000]\n",
    "group_names = [1, 2, 3, 4]\n",
    "train_data[\"Fare_class\"] = pd.cut(train_data['Fare'], bins, labels=group_names)\n",
    "\n",
    "sex_Pclass_Fareclass = pd.crosstab([train_data.Sex,train_data.Pclass,train_data.Fare_class], train_data.Survived)\n",
    "sex_Pclass_Fareclass.apply(lambda x: x/x.sum(), axis=1)"
   ]
  },
  {
   "cell_type": "code",
   "execution_count": 110,
   "metadata": {
    "collapsed": false
   },
   "outputs": [
    {
     "data": {
      "text/plain": [
       "1    38\n",
       "0    24\n",
       "Name: Survived, dtype: int64"
      ]
     },
     "execution_count": 110,
     "metadata": {},
     "output_type": "execute_result"
    }
   ],
   "source": [
    "# Hypothesis One: Woman and Children under age 12 Survived, not man\n",
    "train_data[(train_data.Age < 10)][\"Survived\"].value_counts()"
   ]
  },
  {
   "cell_type": "code",
   "execution_count": 115,
   "metadata": {
    "collapsed": false
   },
   "outputs": [
    {
     "data": {
      "text/plain": [
       "female    5\n",
       "male      3\n",
       "Name: Sex, dtype: int64"
      ]
     },
     "execution_count": 115,
     "metadata": {},
     "output_type": "execute_result"
    }
   ],
   "source": [
    "test_data[(test_data.Age < 2)][\"Sex\"].value_counts()"
   ]
  },
  {
   "cell_type": "code",
   "execution_count": null,
   "metadata": {
    "collapsed": false
   },
   "outputs": [],
   "source": []
  },
  {
   "cell_type": "code",
   "execution_count": null,
   "metadata": {
    "collapsed": true
   },
   "outputs": [],
   "source": []
  },
  {
   "cell_type": "code",
   "execution_count": 101,
   "metadata": {
    "collapsed": true
   },
   "outputs": [],
   "source": [
    "def write_to_csv(results_df, filename):\n",
    "    headers = [\"PassengerId\", \"Survived\"]\n",
    "    results_df[headers].to_csv(filename, header=headers, index = False)"
   ]
  },
  {
   "cell_type": "code",
   "execution_count": 116,
   "metadata": {
    "collapsed": false
   },
   "outputs": [
    {
     "name": "stdout",
     "output_type": "stream",
     "text": [
      "0    266\n",
      "1    152\n",
      "Name: Survived, dtype: int64\n",
      "0    277\n",
      "1    141\n",
      "Name: Survived, dtype: int64\n",
      "0    270\n",
      "1    148\n",
      "Name: Survived, dtype: int64\n"
     ]
    }
   ],
   "source": [
    "test_data[\"Survived\"] = (test_data.Sex == \"female\").apply(lambda x : 1 if x else 0)\n",
    "print(test_data[\"Survived\"].value_counts())\n",
    "test_data.loc[(test_data.Sex == \"female\") & (test_data.Pclass == 3) & (test_data.Fare > 20), \"Survived\"] = 0\n",
    "print(test_data[\"Survived\"].value_counts())\n",
    "\n",
    "write_to_csv(test_data, \"women_except_class3.csv\")\n",
    "\n",
    "# Assume children younger than 6 survive harm the results, so this assumption failed\n",
    "test_data.loc[test_data.Age < 6, \"Survived\"] = 1\n",
    "print(test_data[\"Survived\"].value_counts())\n",
    "\n",
    "write_to_csv(test_data, \"women_except_class3_and_children.csv\")"
   ]
  },
  {
   "cell_type": "code",
   "execution_count": 138,
   "metadata": {
    "collapsed": false
   },
   "outputs": [],
   "source": [
    "# Data munging\n",
    "# 1. filling missing value: age\n",
    "train_data[\"Age\"].fillna(train_data[\"Age\"].mean(), inplace = True)\n",
    "test_data[\"Age\"].fillna(train_data[\"Age\"].mean(), inplace = True)\n",
    "\n",
    "test_data[\"Fare\"].fillna(test_data[\"Fare\"].mean(), inplace = True)\n",
    "\n",
    "train_data[\"Gender\"] = train_data[\"Sex\"].map({\"male\": 0, \"female\": 1})\n",
    "test_data[\"Gender\"] = test_data[\"Sex\"].map({\"male\": 0, \"female\": 1})\n",
    "\n",
    "# train_data[\"Fare\"] = train_data[\"Fare\"]/train_data[\"Fare\"].max().astype(np.float64)\n",
    "# test_data[\"Fare\"] = test_data[\"Fare\"]/test_data[\"Fare\"].max().astype(np.float64)\n",
    "\n",
    "# train_data[\"Age\"] = train_data[\"Age\"]/train_data[\"Age\"].max().astype(np.float64)\n",
    "# test_data[\"Age\"] = test_data[\"Age\"]/test_data[\"Age\"].max().astype(np.float64)\n",
    "\n",
    "# print(test_data[\"Age\"])\n",
    "import numpy as np\n",
    "from sklearn.feature_extraction import DictVectorizer as DV\n",
    "\n",
    "def one_hot_encoder(df, columns):\n",
    "    cat_dict = df[columns].T.to_dict().values()\n",
    "    vectorizer = DV( sparse = False )\n",
    "    vector_df = pd.DataFrame(vectorizer.fit_transform( cat_dict ), columns= vectorizer.get_feature_names())\n",
    "    vector_df.index = df.index\n",
    "    \n",
    "    return df.join(vector_df)\n",
    "\n",
    "append_train_df= one_hot_encoder(train_data, [\"Sex\"])\n",
    "append_test_df = one_hot_encoder(test_data, [\"Sex\"])\n",
    "\n",
    "\n",
    "append_train_df[\"Age\"] = append_train_df[\"Age\"]/append_train_df[\"Age\"].max().astype(np.float64)\n",
    "append_train_df[\"Sex\"] = append_train_df[\"Sex\"].apply(lambda x: 1 if x == \"male\" else 0)"
   ]
  },
  {
   "cell_type": "code",
   "execution_count": 148,
   "metadata": {
    "collapsed": false
   },
   "outputs": [
    {
     "name": "stdout",
     "output_type": "stream",
     "text": [
      "0.786756453423\n",
      "RandomForestClassifier(bootstrap=True, class_weight=None, criterion='gini',\n",
      "            max_depth=None, max_features='auto', max_leaf_nodes=None,\n",
      "            min_samples_leaf=1, min_samples_split=2,\n",
      "            min_weight_fraction_leaf=0.0, n_estimators=100, n_jobs=1,\n",
      "            oob_score=False, random_state=None, verbose=0,\n",
      "            warm_start=False)\n",
      "0.979797979798\n"
     ]
    }
   ],
   "source": [
    "from sklearn.metrics import accuracy_score\n",
    "from sklearn import tree, svm\n",
    "from sklearn.ensemble import RandomForestClassifier\n",
    "import pydot\n",
    "from sklearn.externals.six import StringIO\n",
    "\n",
    "training_labels = train_data[\"Survived\"].apply(lambda x :1 if x else 0)\n",
    "\n",
    "# baseline for training data\n",
    "baseline_labels = (train_data.Sex == \"female\").apply(lambda x : 1 if x else 0)\n",
    "baseline_score = accuracy_score(training_labels, baseline_labels)\n",
    "print(baseline_score)\n",
    "\n",
    "training_column = [\"Gender\", \"Pclass\", \"Fare\", \"Age\"]\n",
    "# training_column = [\"Sex\", \"Age\"]\n",
    "# clf = tree.DecisionTreeClassifier()\n",
    "# clf = svm.SVC(C= 1)\n",
    "clf = RandomForestClassifier(n_estimators = 100)\n",
    "clf = clf.fit(train_data[training_column], training_labels)\n",
    "print(clf)\n",
    "\n",
    "\n",
    "predict_labels = clf.predict(train_data[training_column])\n",
    "\n",
    "train_score = accuracy_score(training_labels, predict_labels)\n",
    "print(train_score)\n",
    "\n",
    "\n",
    "\n",
    "predict_labels = clf.predict(test_data[training_column])\n",
    "append_test_df[\"Survived\"] = pd.Series(predict_labels)\n",
    "write_to_csv(append_test_df, \"sex_fare_pclass_rf.csv\")\n",
    "\n",
    "# dot_data = StringIO() \n",
    "# tree.export_graphviz(clf, out_file=dot_data,\n",
    "#                     feature_names=training_column,\n",
    "#                     class_names = [\"not_survived\", \"survived\"])\n",
    "# graph = pydot.graph_from_dot_data(dot_data.getvalue(), )\n",
    "# graph.write_png(\"dtree2.png\")"
   ]
  },
  {
   "cell_type": "raw",
   "metadata": {},
   "source": []
  }
 ],
 "metadata": {
  "kernelspec": {
   "display_name": "Python 3",
   "language": "python",
   "name": "python3"
  },
  "language_info": {
   "codemirror_mode": {
    "name": "ipython",
    "version": 3
   },
   "file_extension": ".py",
   "mimetype": "text/x-python",
   "name": "python",
   "nbconvert_exporter": "python",
   "pygments_lexer": "ipython3",
   "version": "3.5.0"
  }
 },
 "nbformat": 4,
 "nbformat_minor": 0
}
