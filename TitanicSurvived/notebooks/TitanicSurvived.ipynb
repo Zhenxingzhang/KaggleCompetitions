{
 "cells": [
  {
   "cell_type": "code",
   "execution_count": 2,
   "metadata": {
    "collapsed": false
   },
   "outputs": [
    {
     "name": "stderr",
     "output_type": "stream",
     "text": [
      "/Users/zzhang/.virtualenvs/venv-2.7.0/lib/python2.7/site-packages/matplotlib/font_manager.py:273: UserWarning: Matplotlib is building the font cache using fc-list. This may take a moment.\n",
      "  warnings.warn('Matplotlib is building the font cache using fc-list. This may take a moment.')\n"
     ]
    }
   ],
   "source": [
    "# import dependencies\n",
    "import pandas as pd\n",
    "import matplotlib.pyplot as plt\n",
    "%matplotlib inline"
   ]
  },
  {
   "cell_type": "code",
   "execution_count": 3,
   "metadata": {
    "collapsed": true
   },
   "outputs": [],
   "source": [
    "train_data = pd.read_csv(\"../Data/train.csv\")\n",
    "test_data = pd.read_csv(\"../Data/test.csv\")"
   ]
  },
  {
   "cell_type": "code",
   "execution_count": 4,
   "metadata": {
    "collapsed": false
   },
   "outputs": [
    {
     "name": "stdout",
     "output_type": "stream",
     "text": [
      "<class 'pandas.core.frame.DataFrame'>\n",
      "RangeIndex: 891 entries, 0 to 890\n",
      "Data columns (total 12 columns):\n",
      "PassengerId    891 non-null int64\n",
      "Survived       891 non-null int64\n",
      "Pclass         891 non-null int64\n",
      "Name           891 non-null object\n",
      "Sex            891 non-null object\n",
      "Age            714 non-null float64\n",
      "SibSp          891 non-null int64\n",
      "Parch          891 non-null int64\n",
      "Ticket         891 non-null object\n",
      "Fare           891 non-null float64\n",
      "Cabin          204 non-null object\n",
      "Embarked       889 non-null object\n",
      "dtypes: float64(2), int64(5), object(5)\n",
      "memory usage: 83.6+ KB\n"
     ]
    }
   ],
   "source": [
    "# understand the train dataset\n",
    "train_data.info()"
   ]
  },
  {
   "cell_type": "code",
   "execution_count": 5,
   "metadata": {
    "collapsed": false
   },
   "outputs": [
    {
     "name": "stdout",
     "output_type": "stream",
     "text": [
      "<class 'pandas.core.frame.DataFrame'>\n",
      "RangeIndex: 418 entries, 0 to 417\n",
      "Data columns (total 11 columns):\n",
      "PassengerId    418 non-null int64\n",
      "Pclass         418 non-null int64\n",
      "Name           418 non-null object\n",
      "Sex            418 non-null object\n",
      "Age            332 non-null float64\n",
      "SibSp          418 non-null int64\n",
      "Parch          418 non-null int64\n",
      "Ticket         418 non-null object\n",
      "Fare           417 non-null float64\n",
      "Cabin          91 non-null object\n",
      "Embarked       418 non-null object\n",
      "dtypes: float64(2), int64(4), object(5)\n",
      "memory usage: 36.0+ KB\n"
     ]
    }
   ],
   "source": [
    "# Understand the test dataset\n",
    "test_data.info()"
   ]
  },
  {
   "cell_type": "code",
   "execution_count": 6,
   "metadata": {
    "collapsed": false,
    "scrolled": true
   },
   "outputs": [
    {
     "name": "stdout",
     "output_type": "stream",
     "text": [
      "Survived    0    1\n",
      "Sex               \n",
      "female     81  233\n",
      "male      468  109\n"
     ]
    },
    {
     "data": {
      "text/html": [
       "<div>\n",
       "<table border=\"1\" class=\"dataframe\">\n",
       "  <thead>\n",
       "    <tr style=\"text-align: right;\">\n",
       "      <th>Survived</th>\n",
       "      <th>0</th>\n",
       "      <th>1</th>\n",
       "    </tr>\n",
       "    <tr>\n",
       "      <th>Sex</th>\n",
       "      <th></th>\n",
       "      <th></th>\n",
       "    </tr>\n",
       "  </thead>\n",
       "  <tbody>\n",
       "    <tr>\n",
       "      <th>female</th>\n",
       "      <td>0.257962</td>\n",
       "      <td>0.742038</td>\n",
       "    </tr>\n",
       "    <tr>\n",
       "      <th>male</th>\n",
       "      <td>0.811092</td>\n",
       "      <td>0.188908</td>\n",
       "    </tr>\n",
       "  </tbody>\n",
       "</table>\n",
       "</div>"
      ],
      "text/plain": [
       "Survived         0         1\n",
       "Sex                         \n",
       "female    0.257962  0.742038\n",
       "male      0.811092  0.188908"
      ]
     },
     "execution_count": 6,
     "metadata": {},
     "output_type": "execute_result"
    },
    {
     "data": {
      "image/png": "[encoded data removed]",
      "text/plain": [
       "<matplotlib.figure.Figure at 0x111d4aa10>"
      ]
     },
     "metadata": {},
     "output_type": "display_data"
    }
   ],
   "source": [
    "# Frist assumpution: Female survived, male not\n",
    "survived_by_sex = pd.crosstab(train_data.Sex, train_data.Survived, margins=False)\n",
    "print(survived_by_sex)\n",
    "survived_by_sex.plot(kind = \"bar\", stacked = True, color = [\"red\", \"blue\"])\n",
    "survived_by_sex.apply(lambda r: r/r.sum(), axis=1)\n",
    "\n",
    "# TODO why [boolean array] return rows"
   ]
  },
  {
   "cell_type": "code",
   "execution_count": 7,
   "metadata": {
    "collapsed": false
   },
   "outputs": [
    {
     "data": {
      "text/plain": [
       "'\\nFrom here, we can tell that female in Pclass 3 has much lower chance to survive, we should dive deep into this subset\\n\\nAnd also, male in Pclass 1 has large chance to survive.\\n'"
      ]
     },
     "execution_count": 7,
     "metadata": {},
     "output_type": "execute_result"
    },
    {
     "data": {
      "image/png": "[encoded data removed]",
      "text/plain": [
       "<matplotlib.figure.Figure at 0x1115709d0>"
      ]
     },
     "metadata": {},
     "output_type": "display_data"
    }
   ],
   "source": [
    "survived_by_sex_and_Pclass = pd.crosstab([train_data.Sex, train_data.Pclass], train_data.Survived, margins=False)\n",
    "survived_by_sex_and_Pclass.plot(kind=\"bar\", stacked = True, color = [\"red\", \"blue\"])\n",
    "survived_by_sex_and_Pclass.apply(lambda x: x / x.sum(), axis=1)\n",
    "\n",
    "\"\"\"\n",
    "From here, we can tell that female in Pclass 3 has much lower chance to survive, we should dive deep into this subset\n",
    "\n",
    "And also, male in Pclass 1 has large chance to survive.\n",
    "\"\"\""
   ]
  },
  {
   "cell_type": "code",
   "execution_count": 8,
   "metadata": {
    "collapsed": false
   },
   "outputs": [
    {
     "name": "stdout",
     "output_type": "stream",
     "text": [
      "Survived        0    1\n",
      "Sex    SibSp          \n",
      "female 0       37  137\n",
      "       1       26   80\n",
      "       2        3   10\n",
      "       3        7    4\n",
      "       4        4    2\n",
      "       5        1    0\n",
      "       8        3    0\n",
      "male   0      361   73\n",
      "       1       71   32\n",
      "       2       12    3\n",
      "       3        5    0\n",
      "       4       11    1\n",
      "       5        4    0\n",
      "       8        4    0\n"
     ]
    },
    {
     "data": {
      "text/html": [
       "<div>\n",
       "<table border=\"1\" class=\"dataframe\">\n",
       "  <thead>\n",
       "    <tr style=\"text-align: right;\">\n",
       "      <th></th>\n",
       "      <th>Survived</th>\n",
       "      <th>0</th>\n",
       "      <th>1</th>\n",
       "    </tr>\n",
       "    <tr>\n",
       "      <th>Sex</th>\n",
       "      <th>SibSp</th>\n",
       "      <th></th>\n",
       "      <th></th>\n",
       "    </tr>\n",
       "  </thead>\n",
       "  <tbody>\n",
       "    <tr>\n",
       "      <th rowspan=\"7\" valign=\"top\">female</th>\n",
       "      <th>0</th>\n",
       "      <td>0.212644</td>\n",
       "      <td>0.787356</td>\n",
       "    </tr>\n",
       "    <tr>\n",
       "      <th>1</th>\n",
       "      <td>0.245283</td>\n",
       "      <td>0.754717</td>\n",
       "    </tr>\n",
       "    <tr>\n",
       "      <th>2</th>\n",
       "      <td>0.230769</td>\n",
       "      <td>0.769231</td>\n",
       "    </tr>\n",
       "    <tr>\n",
       "      <th>3</th>\n",
       "      <td>0.636364</td>\n",
       "      <td>0.363636</td>\n",
       "    </tr>\n",
       "    <tr>\n",
       "      <th>4</th>\n",
       "      <td>0.666667</td>\n",
       "      <td>0.333333</td>\n",
       "    </tr>\n",
       "    <tr>\n",
       "      <th>5</th>\n",
       "      <td>1.000000</td>\n",
       "      <td>0.000000</td>\n",
       "    </tr>\n",
       "    <tr>\n",
       "      <th>8</th>\n",
       "      <td>1.000000</td>\n",
       "      <td>0.000000</td>\n",
       "    </tr>\n",
       "    <tr>\n",
       "      <th rowspan=\"7\" valign=\"top\">male</th>\n",
       "      <th>0</th>\n",
       "      <td>0.831797</td>\n",
       "      <td>0.168203</td>\n",
       "    </tr>\n",
       "    <tr>\n",
       "      <th>1</th>\n",
       "      <td>0.689320</td>\n",
       "      <td>0.310680</td>\n",
       "    </tr>\n",
       "    <tr>\n",
       "      <th>2</th>\n",
       "      <td>0.800000</td>\n",
       "      <td>0.200000</td>\n",
       "    </tr>\n",
       "    <tr>\n",
       "      <th>3</th>\n",
       "      <td>1.000000</td>\n",
       "      <td>0.000000</td>\n",
       "    </tr>\n",
       "    <tr>\n",
       "      <th>4</th>\n",
       "      <td>0.916667</td>\n",
       "      <td>0.083333</td>\n",
       "    </tr>\n",
       "    <tr>\n",
       "      <th>5</th>\n",
       "      <td>1.000000</td>\n",
       "      <td>0.000000</td>\n",
       "    </tr>\n",
       "    <tr>\n",
       "      <th>8</th>\n",
       "      <td>1.000000</td>\n",
       "      <td>0.000000</td>\n",
       "    </tr>\n",
       "  </tbody>\n",
       "</table>\n",
       "</div>"
      ],
      "text/plain": [
       "Survived             0         1\n",
       "Sex    SibSp                    \n",
       "female 0      0.212644  0.787356\n",
       "       1      0.245283  0.754717\n",
       "       2      0.230769  0.769231\n",
       "       3      0.636364  0.363636\n",
       "       4      0.666667  0.333333\n",
       "       5      1.000000  0.000000\n",
       "       8      1.000000  0.000000\n",
       "male   0      0.831797  0.168203\n",
       "       1      0.689320  0.310680\n",
       "       2      0.800000  0.200000\n",
       "       3      1.000000  0.000000\n",
       "       4      0.916667  0.083333\n",
       "       5      1.000000  0.000000\n",
       "       8      1.000000  0.000000"
      ]
     },
     "execution_count": 8,
     "metadata": {},
     "output_type": "execute_result"
    },
    {
     "data": {
      "text/plain": [
       "<matplotlib.figure.Figure at 0x111ec1110>"
      ]
     },
     "metadata": {},
     "output_type": "display_data"
    },
    {
     "data": {
      "image/png": "[encoded data removed]",
      "text/plain": [
       "<matplotlib.figure.Figure at 0x111ead0d0>"
      ]
     },
     "metadata": {},
     "output_type": "display_data"
    }
   ],
   "source": [
    "# train_data.boxplot(column=\"Fare\", by=\"Sex\")\n",
    "# ax1 = plt.subplot(3,1,1)\n",
    "# ax1.set_title = \"Class 1\"\n",
    "# train_data.loc[(train_data.Pclass == 1) & train_data.Survived == 1][\"Fare\"].hist(bins = 20, color = \"red\", ax = ax1)\n",
    "# plt.subplot(3,1,2)\n",
    "# train_data.loc[train_data.Pclass == 2][\"Fare\"].hist(bins = 20)\n",
    "# plt.subplot(3,1,3)\n",
    "# train_data.loc[(train_data.Sex == \"female\") & (train_data.Pclass == 3) & (train_data.Survived == 1)][\"Fare\"].hist(bins = 20, color = \"blue\")\n",
    "# train_data.loc[(train_data.Sex == \"female\") & (train_data.Pclass == 3) & (train_data.Survived == 0)][\"Fare\"].hist(bins = 20, color = \"red\")\n",
    "survived_by_relatives = pd.crosstab([train_data.Sex, train_data.SibSp], train_data.Survived, margins=False)\n",
    "plt.figure(figsize=(15,10))\n",
    "survived_by_relatives.plot(kind=\"bar\", stacked = True, color=[\"red\", \"blue\"])\n",
    "print(survived_by_relatives)\n",
    "\n",
    "survived_by_relatives.apply(lambda x : x/x.sum(), axis = 1)"
   ]
  },
  {
   "cell_type": "code",
   "execution_count": 9,
   "metadata": {
    "collapsed": false
   },
   "outputs": [
    {
     "name": "stdout",
     "output_type": "stream",
     "text": [
      "Survived        0    1\n",
      "Sex    Parch          \n",
      "female 0       41  153\n",
      "       1       14   46\n",
      "       2       19   30\n",
      "       3        1    3\n",
      "       4        2    0\n",
      "       5        3    1\n",
      "       6        1    0\n",
      "male   0      404   80\n",
      "       1       39   19\n",
      "       2       21   10\n",
      "       3        1    0\n",
      "       4        2    0\n",
      "       5        1    0\n"
     ]
    },
    {
     "data": {
      "text/html": [
       "<div>\n",
       "<table border=\"1\" class=\"dataframe\">\n",
       "  <thead>\n",
       "    <tr style=\"text-align: right;\">\n",
       "      <th></th>\n",
       "      <th>Survived</th>\n",
       "      <th>0</th>\n",
       "      <th>1</th>\n",
       "    </tr>\n",
       "    <tr>\n",
       "      <th>Sex</th>\n",
       "      <th>Parch</th>\n",
       "      <th></th>\n",
       "      <th></th>\n",
       "    </tr>\n",
       "  </thead>\n",
       "  <tbody>\n",
       "    <tr>\n",
       "      <th rowspan=\"7\" valign=\"top\">female</th>\n",
       "      <th>0</th>\n",
       "      <td>0.211340</td>\n",
       "      <td>0.788660</td>\n",
       "    </tr>\n",
       "    <tr>\n",
       "      <th>1</th>\n",
       "      <td>0.233333</td>\n",
       "      <td>0.766667</td>\n",
       "    </tr>\n",
       "    <tr>\n",
       "      <th>2</th>\n",
       "      <td>0.387755</td>\n",
       "      <td>0.612245</td>\n",
       "    </tr>\n",
       "    <tr>\n",
       "      <th>3</th>\n",
       "      <td>0.250000</td>\n",
       "      <td>0.750000</td>\n",
       "    </tr>\n",
       "    <tr>\n",
       "      <th>4</th>\n",
       "      <td>1.000000</td>\n",
       "      <td>0.000000</td>\n",
       "    </tr>\n",
       "    <tr>\n",
       "      <th>5</th>\n",
       "      <td>0.750000</td>\n",
       "      <td>0.250000</td>\n",
       "    </tr>\n",
       "    <tr>\n",
       "      <th>6</th>\n",
       "      <td>1.000000</td>\n",
       "      <td>0.000000</td>\n",
       "    </tr>\n",
       "    <tr>\n",
       "      <th rowspan=\"6\" valign=\"top\">male</th>\n",
       "      <th>0</th>\n",
       "      <td>0.834711</td>\n",
       "      <td>0.165289</td>\n",
       "    </tr>\n",
       "    <tr>\n",
       "      <th>1</th>\n",
       "      <td>0.672414</td>\n",
       "      <td>0.327586</td>\n",
       "    </tr>\n",
       "    <tr>\n",
       "      <th>2</th>\n",
       "      <td>0.677419</td>\n",
       "      <td>0.322581</td>\n",
       "    </tr>\n",
       "    <tr>\n",
       "      <th>3</th>\n",
       "      <td>1.000000</td>\n",
       "      <td>0.000000</td>\n",
       "    </tr>\n",
       "    <tr>\n",
       "      <th>4</th>\n",
       "      <td>1.000000</td>\n",
       "      <td>0.000000</td>\n",
       "    </tr>\n",
       "    <tr>\n",
       "      <th>5</th>\n",
       "      <td>1.000000</td>\n",
       "      <td>0.000000</td>\n",
       "    </tr>\n",
       "  </tbody>\n",
       "</table>\n",
       "</div>"
      ],
      "text/plain": [
       "Survived             0         1\n",
       "Sex    Parch                    \n",
       "female 0      0.211340  0.788660\n",
       "       1      0.233333  0.766667\n",
       "       2      0.387755  0.612245\n",
       "       3      0.250000  0.750000\n",
       "       4      1.000000  0.000000\n",
       "       5      0.750000  0.250000\n",
       "       6      1.000000  0.000000\n",
       "male   0      0.834711  0.165289\n",
       "       1      0.672414  0.327586\n",
       "       2      0.677419  0.322581\n",
       "       3      1.000000  0.000000\n",
       "       4      1.000000  0.000000\n",
       "       5      1.000000  0.000000"
      ]
     },
     "execution_count": 9,
     "metadata": {},
     "output_type": "execute_result"
    }
   ],
   "source": [
    "survived_by_Parch = pd.crosstab([train_data.Sex, train_data.Parch], train_data.Survived, margins=False)\n",
    "print(survived_by_Parch)\n",
    "survived_by_Parch.apply(lambda x : x/x.sum(), axis= 1)"
   ]
  },
  {
   "cell_type": "code",
   "execution_count": 10,
   "metadata": {
    "collapsed": false
   },
   "outputs": [
    {
     "data": {
      "text/html": [
       "<div>\n",
       "<table border=\"1\" class=\"dataframe\">\n",
       "  <thead>\n",
       "    <tr style=\"text-align: right;\">\n",
       "      <th></th>\n",
       "      <th></th>\n",
       "      <th>Survived</th>\n",
       "      <th>0</th>\n",
       "      <th>1</th>\n",
       "    </tr>\n",
       "    <tr>\n",
       "      <th>Sex</th>\n",
       "      <th>Pclass</th>\n",
       "      <th>Fare_class</th>\n",
       "      <th></th>\n",
       "      <th></th>\n",
       "    </tr>\n",
       "  </thead>\n",
       "  <tbody>\n",
       "    <tr>\n",
       "      <th rowspan=\"12\" valign=\"top\">female</th>\n",
       "      <th rowspan=\"4\" valign=\"top\">1</th>\n",
       "      <th>1</th>\n",
       "      <td>NaN</td>\n",
       "      <td>NaN</td>\n",
       "    </tr>\n",
       "    <tr>\n",
       "      <th>2</th>\n",
       "      <td>NaN</td>\n",
       "      <td>NaN</td>\n",
       "    </tr>\n",
       "    <tr>\n",
       "      <th>3</th>\n",
       "      <td>0.142857</td>\n",
       "      <td>0.857143</td>\n",
       "    </tr>\n",
       "    <tr>\n",
       "      <th>4</th>\n",
       "      <td>0.022989</td>\n",
       "      <td>0.977011</td>\n",
       "    </tr>\n",
       "    <tr>\n",
       "      <th rowspan=\"4\" valign=\"top\">2</th>\n",
       "      <th>1</th>\n",
       "      <td>NaN</td>\n",
       "      <td>NaN</td>\n",
       "    </tr>\n",
       "    <tr>\n",
       "      <th>2</th>\n",
       "      <td>0.085714</td>\n",
       "      <td>0.914286</td>\n",
       "    </tr>\n",
       "    <tr>\n",
       "      <th>3</th>\n",
       "      <td>0.096774</td>\n",
       "      <td>0.903226</td>\n",
       "    </tr>\n",
       "    <tr>\n",
       "      <th>4</th>\n",
       "      <td>0.000000</td>\n",
       "      <td>1.000000</td>\n",
       "    </tr>\n",
       "    <tr>\n",
       "      <th rowspan=\"4\" valign=\"top\">3</th>\n",
       "      <th>1</th>\n",
       "      <td>0.406250</td>\n",
       "      <td>0.593750</td>\n",
       "    </tr>\n",
       "    <tr>\n",
       "      <th>2</th>\n",
       "      <td>0.418605</td>\n",
       "      <td>0.581395</td>\n",
       "    </tr>\n",
       "    <tr>\n",
       "      <th>3</th>\n",
       "      <td>0.666667</td>\n",
       "      <td>0.333333</td>\n",
       "    </tr>\n",
       "    <tr>\n",
       "      <th>4</th>\n",
       "      <td>0.875000</td>\n",
       "      <td>0.125000</td>\n",
       "    </tr>\n",
       "    <tr>\n",
       "      <th rowspan=\"12\" valign=\"top\">male</th>\n",
       "      <th rowspan=\"4\" valign=\"top\">1</th>\n",
       "      <th>1</th>\n",
       "      <td>1.000000</td>\n",
       "      <td>0.000000</td>\n",
       "    </tr>\n",
       "    <tr>\n",
       "      <th>2</th>\n",
       "      <td>NaN</td>\n",
       "      <td>NaN</td>\n",
       "    </tr>\n",
       "    <tr>\n",
       "      <th>3</th>\n",
       "      <td>0.558824</td>\n",
       "      <td>0.441176</td>\n",
       "    </tr>\n",
       "    <tr>\n",
       "      <th>4</th>\n",
       "      <td>0.634146</td>\n",
       "      <td>0.365854</td>\n",
       "    </tr>\n",
       "    <tr>\n",
       "      <th rowspan=\"4\" valign=\"top\">2</th>\n",
       "      <th>1</th>\n",
       "      <td>NaN</td>\n",
       "      <td>NaN</td>\n",
       "    </tr>\n",
       "    <tr>\n",
       "      <th>2</th>\n",
       "      <td>0.841270</td>\n",
       "      <td>0.158730</td>\n",
       "    </tr>\n",
       "    <tr>\n",
       "      <th>3</th>\n",
       "      <td>0.840000</td>\n",
       "      <td>0.160000</td>\n",
       "    </tr>\n",
       "    <tr>\n",
       "      <th>4</th>\n",
       "      <td>0.785714</td>\n",
       "      <td>0.214286</td>\n",
       "    </tr>\n",
       "    <tr>\n",
       "      <th rowspan=\"4\" valign=\"top\">3</th>\n",
       "      <th>1</th>\n",
       "      <td>0.890625</td>\n",
       "      <td>0.109375</td>\n",
       "    </tr>\n",
       "    <tr>\n",
       "      <th>2</th>\n",
       "      <td>0.763158</td>\n",
       "      <td>0.236842</td>\n",
       "    </tr>\n",
       "    <tr>\n",
       "      <th>3</th>\n",
       "      <td>0.875000</td>\n",
       "      <td>0.125000</td>\n",
       "    </tr>\n",
       "    <tr>\n",
       "      <th>4</th>\n",
       "      <td>0.760000</td>\n",
       "      <td>0.240000</td>\n",
       "    </tr>\n",
       "  </tbody>\n",
       "</table>\n",
       "</div>"
      ],
      "text/plain": [
       "Survived                         0         1\n",
       "Sex    Pclass Fare_class                    \n",
       "female 1      1                NaN       NaN\n",
       "              2                NaN       NaN\n",
       "              3           0.142857  0.857143\n",
       "              4           0.022989  0.977011\n",
       "       2      1                NaN       NaN\n",
       "              2           0.085714  0.914286\n",
       "              3           0.096774  0.903226\n",
       "              4           0.000000  1.000000\n",
       "       3      1           0.406250  0.593750\n",
       "              2           0.418605  0.581395\n",
       "              3           0.666667  0.333333\n",
       "              4           0.875000  0.125000\n",
       "male   1      1           1.000000  0.000000\n",
       "              2                NaN       NaN\n",
       "              3           0.558824  0.441176\n",
       "              4           0.634146  0.365854\n",
       "       2      1                NaN       NaN\n",
       "              2           0.841270  0.158730\n",
       "              3           0.840000  0.160000\n",
       "              4           0.785714  0.214286\n",
       "       3      1           0.890625  0.109375\n",
       "              2           0.763158  0.236842\n",
       "              3           0.875000  0.125000\n",
       "              4           0.760000  0.240000"
      ]
     },
     "execution_count": 10,
     "metadata": {},
     "output_type": "execute_result"
    }
   ],
   "source": [
    "# bin the Fare into 4 classes\n",
    "\n",
    "bins = [0, 10,20,30, 1000]\n",
    "group_names = [1, 2, 3, 4]\n",
    "train_data[\"Fare_class\"] = pd.cut(train_data['Fare'], bins, labels=group_names)\n",
    "\n",
    "\n",
    "sex_Pclass_Fareclass = pd.crosstab([train_data.Sex,train_data.Pclass,train_data.Fare_class], train_data.Survived)\n",
    "sex_Pclass_Fareclass.apply(lambda x: x/x.sum(), axis=1)"
   ]
  },
  {
   "cell_type": "code",
   "execution_count": 11,
   "metadata": {
    "collapsed": false
   },
   "outputs": [
    {
     "name": "stdout",
     "output_type": "stream",
     "text": [
      "Mr        497\n",
      "Miss      176\n",
      "Mrs       120\n",
      "None       46\n",
      "Master     39\n",
      "Dr          6\n",
      "Boss        5\n",
      "Lady        2\n",
      "Name: Title, dtype: int64\n"
     ]
    },
    {
     "data": {
      "text/plain": [
       "Mr              517\n",
       "Miss            182\n",
       "Mrs             125\n",
       "Master           40\n",
       "Dr                7\n",
       "Boss              6\n",
       "Rev               6\n",
       "Mlle              2\n",
       "Jonkheer          1\n",
       "Ms                1\n",
       "Lady              1\n",
       "Mme               1\n",
       "the Countess      1\n",
       "Sir               1\n",
       "Name: Title_1, dtype: int64"
      ]
     },
     "execution_count": 11,
     "metadata": {},
     "output_type": "execute_result"
    }
   ],
   "source": [
    "import re\n",
    "\n",
    "\n",
    "def build_title(data, column = \"Name\"):\n",
    "#     return data[column].apply(lambda x: re.findall(r\"[\\w']+\", x)[1].strip())\n",
    "    name_seires = pd.DataFrame([str.split(str.split(name,',')[1],'.')[0].strip() for name in data['Name']])\n",
    "    name_seires[name_seires.isin([\"Col\", \"Don\", \"Major\",\"Capt\"])] = \"Boss\"\n",
    "    \n",
    "    return name_seires\n",
    "\n",
    "combi_df = train_data.append(test_data, ignore_index=True)\n",
    "train_data[\"Name\"].apply(lambda x : re.findall(r\"[\\w']+\", x)[1]).value_counts()\n",
    "\n",
    "combi_df[\"Title\"] = combi_df[\"Name\"].apply(lambda x: re.findall(r\"[\\w']+\", x)[1].strip())\n",
    "# print(combi_df[\"Title\"].value_counts())\n",
    "combi_df.ix[combi_df.Title.isin([\"Col\", \"Don\", \"Major\",\"Capt\"]), \"Title\"] = \"Boss\"\n",
    "combi_df.ix[combi_df.Title.isin([\"Dona\", \"Jonkheer\", \"Lady\", \"the Countess\", \"Ms\"]), \"Title\"] = \"Lady\"\n",
    "\n",
    "combi_df.ix[~combi_df.Title.isin([\"Mr\",\"Dr\",\"Miss\", \"Mrs\", \"Boss\",\"Master\", \"Sir\", \"Lady\"]), \"Title\"] = \"None\"\n",
    "\n",
    "# print(combi_df[\"Title\"].value_counts())\n",
    "\n",
    "train_data[\"Title\"] = combi_df[\"Title\"][0:train_data.shape[0]]\n",
    "test_data[\"Title\"] = combi_df[\"Title\"][train_data.shape[0]:].reset_index(drop=True)\n",
    "\n",
    "train_data[\"Title_1\"] = build_title(train_data)\n",
    "\n",
    "print(train_data[\"Title\"].value_counts())\n",
    "train_data[\"Title_1\"].value_counts()\n",
    "# print(test_data[\"Embarked\"])"
   ]
  },
  {
   "cell_type": "code",
   "execution_count": 12,
   "metadata": {
    "collapsed": false
   },
   "outputs": [],
   "source": [
    "# Data mungging, convert all string to integer, since sklearn only accept integer value.\n",
    "test_data[\"Fare\"].fillna(train_data[\"Fare\"].mean(), inplace=True)\n",
    "train_data[\"Embarked\"].fillna(\"Q\", inplace= True )\n",
    "\n",
    "# train_data[\"Embarked_Int\"] = train_data[\"Embarked\"].map({\"S\": 1, \"C\":2, \"Q\":3})\n",
    "# test_data[\"Embarked_Int\"] = test_data[\"Embarked\"].map({\"S\": 1, \"C\":2, \"Q\":3})\n",
    "\n",
    "\n",
    "# train_data[\"Title_Int\"] = train_data[\"Title\"].map({\"Mr\": 1, \"Miss\":2, \"Mrs\":3, \"None\" :4, \"Master\":5, \"Sir\":6, \"Mlle\":7, \"Lady\":8})\n",
    "# test_data[\"Title_Int\"] = test_data[\"Title\"].map({\"Mr\": 1, \"Miss\":2, \"Mrs\":3, \"None\" :4, \"Master\":5, \"Sir\":6, \"Mlle\":7, \"Lady\":8})"
   ]
  },
  {
   "cell_type": "code",
   "execution_count": 13,
   "metadata": {
    "collapsed": false
   },
   "outputs": [
    {
     "data": {
      "text/plain": [
       "0    28\n",
       "1     9\n",
       "Name: Survived, dtype: int64"
      ]
     },
     "execution_count": 13,
     "metadata": {},
     "output_type": "execute_result"
    }
   ],
   "source": [
    "# Hypothesis One: Woman and Children under age 12 Survived, not man\n",
    "# train_data[(train_data.Age < 12)][\"Survived\"].value_counts()\n",
    "\n",
    "train_data[(train_data.Sex == \"female\") & (train_data.Pclass == 3) & (train_data.Fare > 20)][\"Survived\"].value_counts()"
   ]
  },
  {
   "cell_type": "code",
   "execution_count": 14,
   "metadata": {
    "collapsed": false
   },
   "outputs": [
    {
     "data": {
      "text/plain": [
       "1    13\n",
       "0     2\n",
       "Name: Survived, dtype: int64"
      ]
     },
     "execution_count": 14,
     "metadata": {},
     "output_type": "execute_result"
    }
   ],
   "source": [
    "train_data[(train_data.Age < 13.5) & (train_data.Sex == \"male\") & (train_data.Fare <= 26.2687)][\"Survived\"].value_counts()"
   ]
  },
  {
   "cell_type": "code",
   "execution_count": 15,
   "metadata": {
    "collapsed": true
   },
   "outputs": [],
   "source": [
    "def write_to_csv(results_df, filename):\n",
    "    headers = [\"PassengerId\", \"Survived\"]\n",
    "    results_df[headers].to_csv(filename, header=headers, index = False)"
   ]
  },
  {
   "cell_type": "code",
   "execution_count": 16,
   "metadata": {
    "collapsed": false
   },
   "outputs": [
    {
     "name": "stdout",
     "output_type": "stream",
     "text": [
      "0.0    11\n",
      "Name: Survived, dtype: int64\n",
      "1.0    12\n",
      "0.0     9\n",
      "Name: Survived, dtype: int64\n"
     ]
    }
   ],
   "source": [
    "# print(test_data[\"Survived\"].value_counts())\n",
    "test_data.loc[(test_data.Sex == \"female\") & (test_data.Pclass == 3) & (test_data.Fare > 20), \"Survived\"] = 0\n",
    "print(test_data[\"Survived\"].value_counts())\n",
    "\n",
    "write_to_csv(test_data, \"women_except_class3.csv\")\n",
    "\n",
    "# Assume children younger than 6 survive harm the results, so this assumption failed\n",
    "test_data.loc[test_data.Age < 6, \"Survived\"] = 1\n",
    "print(test_data[\"Survived\"].value_counts())\n",
    "\n",
    "write_to_csv(test_data, \"women_except_class3_and_children.csv\")"
   ]
  },
  {
   "cell_type": "code",
   "execution_count": 17,
   "metadata": {
    "collapsed": false
   },
   "outputs": [
    {
     "name": "stdout",
     "output_type": "stream",
     "text": [
      "0.786756453423\n",
      "DecisionTreeClassifier(class_weight=None, criterion='entropy', max_depth=3,\n",
      "            max_features=None, max_leaf_nodes=None, min_samples_leaf=10,\n",
      "            min_samples_split=2, min_weight_fraction_leaf=0.0,\n",
      "            presort=False, random_state=None, splitter='best')\n",
      "0.822671156004\n",
      "0.80808259631\n"
     ]
    },
    {
     "data": {
      "text/plain": [
       "'\\nThis give us the 0.78469 on public leading board, the best at the moment.\\n'"
      ]
     },
     "execution_count": 17,
     "metadata": {},
     "output_type": "execute_result"
    }
   ],
   "source": [
    "from sklearn.metrics import accuracy_score\n",
    "from sklearn import tree, cross_validation\n",
    "from sklearn.ensemble import RandomForestClassifier\n",
    "import pydot\n",
    "from sklearn.externals.six import StringIO\n",
    "\n",
    "training_labels = train_data[\"Survived\"].apply(lambda x :1 if x else 0)\n",
    "\n",
    "# baseline for training data\n",
    "baseline_labels = (train_data.Sex == \"female\").apply(lambda x : 1 if x else 0)\n",
    "baseline_score = accuracy_score(training_labels, baseline_labels)\n",
    "print(baseline_score)\n",
    "\n",
    "train_data[\"Gender\"] = train_data[\"Sex\"].map({\"male\":0, \"female\": 1})\n",
    "train_data.Age.fillna(train_data.Age.mean(), inplace=True)\n",
    "\n",
    "test_data[\"Gender\"] = test_data[\"Sex\"].map({\"male\":0, \"female\": 1})\n",
    "test_data.Age.fillna(test_data.Age.mean(), inplace=True)\n",
    "\n",
    "\n",
    "training_column = [\"Gender\", \"Pclass\", \"Fare\", \"Age\"]\n",
    "clf = tree.DecisionTreeClassifier(max_depth=3, min_samples_leaf=10, criterion=\"entropy\")\n",
    "# clf = RandomForestClassifier(n_estimators = 100)\n",
    "clf = clf.fit(train_data[training_column], training_labels)\n",
    "print(clf)\n",
    "\n",
    "\n",
    "predict_labels = clf.predict(train_data[training_column])\n",
    "train_score = accuracy_score(predict_labels, training_labels)\n",
    "print(train_score)\n",
    "\n",
    "\n",
    "cv_scores = cross_validation.cross_val_score(clf, train_data[training_column], training_labels, cv=5)\n",
    "print(cv_scores.mean())\n",
    "\n",
    "# predict_labels = clf.predict(test_data[training_column])\n",
    "# append_test_df[\"Survived\"] = pd.Series(predict_labels)\n",
    "# write_to_csv(append_test_df, \"sex_fare_pclass_dt_3.csv\")\n",
    "\"\"\"\n",
    "This give us the 0.78469 on public leading board, the best at the moment.\n",
    "\"\"\""
   ]
  },
  {
   "cell_type": "code",
   "execution_count": 18,
   "metadata": {
    "collapsed": true
   },
   "outputs": [],
   "source": [
    "def one_hot_dataframe(data, column_name):\n",
    "    dummies_data = pd.get_dummies(data[column_name])\n",
    "    dummies_data.index = data.index\n",
    "    dummies_data.columns = [\"{}_{}\".format(column_name, idx) for idx in dummies_data.columns]\n",
    "    \n",
    "    return dummies_data"
   ]
  },
  {
   "cell_type": "code",
   "execution_count": 19,
   "metadata": {
    "collapsed": false
   },
   "outputs": [],
   "source": [
    "# add family number and embarked as feature.\n",
    "train_data[\"FamilyNo\"] = train_data[\"SibSp\"] + train_data[\"Parch\"]\n",
    "test_data[\"FamilyNo\"] = test_data[\"SibSp\"] + test_data[\"SibSp\"]\n",
    "\n",
    "train_data = pd.concat([train_data, one_hot_dataframe(train_data, \"Embarked\")], axis=1)\n",
    "test_data =  pd.concat([test_data, one_hot_dataframe(test_data, \"Embarked\")], axis=1)\n",
    "\n",
    "train_data = pd.concat([train_data, one_hot_dataframe(train_data, \"Title\")], axis=1)\n",
    "test_data =  pd.concat([test_data, one_hot_dataframe(test_data, \"Title\")], axis=1)\n",
    "\n",
    "train_data = pd.concat([train_data, one_hot_dataframe(train_data, \"Pclass\")], axis=1)\n",
    "test_data =  pd.concat([test_data, one_hot_dataframe(test_data, \"Pclass\")], axis=1)"
   ]
  },
  {
   "cell_type": "code",
   "execution_count": 28,
   "metadata": {
    "collapsed": false
   },
   "outputs": [
    {
     "name": "stdout",
     "output_type": "stream",
     "text": [
      "DecisionTreeClassifier(class_weight=None, criterion='entropy', max_depth=6,\n",
      "            max_features=None, max_leaf_nodes=None, min_samples_leaf=5,\n",
      "            min_samples_split=2, min_weight_fraction_leaf=0.0,\n",
      "            presort=False, random_state=None, splitter='best')\n",
      "0.850729517396\n",
      "0.818213857997\n",
      "0.00028519859211\n"
     ]
    }
   ],
   "source": [
    "# test_data.info()\n",
    "from sklearn.linear_model import LogisticRegression\n",
    "feature_columns = [\"Gender\",\"Pclass\", \"Fare\", \"Age\"]\n",
    "# feature_columns = [\"Gender\",\"Pclass_1\", \"Pclass_2\", \"Fare\", \"Age\", \"Title_Master\", \"Embarked_S\", \"Embarked_C\", \"FamilyNo\"]\n",
    "# feature_columns = [\"Gender\",\"Title_Mr\",\"Title_Mrs\",\"Title_None\",\"Title_Sir\",\"Title_Miss\",\"Title_Master\", \"Title_Lady\", \"Pclass_1\", \"Pclass_2\", \"Pclass_3\", \"Fare\", \"Age\", \"FamilyNo\", \"Embarked_S\", \"Embarked_C\",\"Embarked_Q\"]\n",
    "\n",
    "# clf = LogisticRegression(C=1e5)\n",
    "clf = tree.DecisionTreeClassifier(max_depth=6, min_samples_leaf=5, criterion=\"entropy\")\n",
    "clf = clf.fit(train_data[feature_columns], training_labels)\n",
    "print(clf)\n",
    "\n",
    "\n",
    "predict_labels = clf.predict(train_data[feature_columns])\n",
    "train_score = accuracy_score(predict_labels, training_labels)\n",
    "print(train_score)\n",
    "\n",
    "\n",
    "cv_scores = cross_validation.cross_val_score(clf, train_data[feature_columns], training_labels, cv=5)\n",
    "print(cv_scores.mean())\n",
    "print(cv_scores.var())\n",
    "\n",
    "predict_labels = clf.predict(test_data[feature_columns])\n",
    "test_data[\"Survived\"] = pd.Series(predict_labels)\n",
    "write_to_csv(test_data, \"sex_fare_pclass_family_dt.csv\")\n"
   ]
  },
  {
   "cell_type": "code",
   "execution_count": 21,
   "metadata": {
    "collapsed": false
   },
   "outputs": [
    {
     "ename": "TypeError",
     "evalue": "unorderable types: dict() > dict()",
     "output_type": "error",
     "traceback": [
      "\u001b[0;31m---------------------------------------------------------------------------\u001b[0m",
      "\u001b[0;31mTypeError\u001b[0m                                 Traceback (most recent call last)",
      "\u001b[0;32m<ipython-input-21-6980d927e4cf>\u001b[0m in \u001b[0;36m<module>\u001b[0;34m()\u001b[0m\n\u001b[1;32m     11\u001b[0m \u001b[0;31m# tree_preds = tree.predict_proba(xtest)[:, 1]\u001b[0m\u001b[0;34m\u001b[0m\u001b[0;34m\u001b[0m\u001b[0m\n\u001b[1;32m     12\u001b[0m \u001b[0;31m# tree_performance = roc_auc_score(ytest, tree_preds)\u001b[0m\u001b[0;34m\u001b[0m\u001b[0;34m\u001b[0m\u001b[0m\n\u001b[0;32m---> 13\u001b[0;31m \u001b[0mprint\u001b[0m\u001b[0;34m(\u001b[0m\u001b[0mmax\u001b[0m\u001b[0;34m(\u001b[0m\u001b[0mgrid_search\u001b[0m\u001b[0;34m.\u001b[0m\u001b[0mgrid_scores_\u001b[0m\u001b[0;34m)\u001b[0m\u001b[0;34m)\u001b[0m\u001b[0;34m\u001b[0m\u001b[0m\n\u001b[0m",
      "\u001b[0;31mTypeError\u001b[0m: unorderable types: dict() > dict()"
     ]
    }
   ],
   "source": [
    "import numpy as np\n",
    "from sklearn.tree import DecisionTreeClassifier\n",
    "from sklearn.metrics import roc_auc_score\n",
    "from sklearn.grid_search import GridSearchCV\n",
    "\n",
    "param_grid = {'max_depth': np.arange(3, 15), \"min_samples_leaf\": np.arange(5, 20), \"criterion\": [\"gini\", \"entropy\"]}\n",
    "\n",
    "grid_search = GridSearchCV(DecisionTreeClassifier(), param_grid)\n",
    "\n",
    "grid_search.fit(train_data[feature_columns], training_labels)\n",
    "# tree_preds = tree.predict_proba(xtest)[:, 1]\n",
    "# tree_performance = roc_auc_score(ytest, tree_preds)\n",
    "print(max(grid_search.grid_scores_))"
   ]
  },
  {
   "cell_type": "code",
   "execution_count": null,
   "metadata": {
    "collapsed": false
   },
   "outputs": [],
   "source": [
    "from sklearn.feature_extraction import DictVectorizer\n",
    "\n",
    "\n",
    "# normalize the integer feature\n",
    "train_data[\"normalized_fare\"] = train_data[\"Fare\"]/train_data[\"Fare\"].max().astype(np.float64)\n",
    "train_data[\"normalized_age\"] = train_data[\"Age\"]/train_data[\"Age\"].max().astype(np.float64)\n",
    "\n",
    "test_data[\"normalized_fare\"] = test_data[\"Fare\"]/test_data[\"Fare\"].max().astype(np.float64)\n",
    "test_data[\"normalized_age\"] = test_data[\"Age\"]/test_data[\"Age\"].max().astype(np.float64)\n",
    "# print(train_data.head())\n",
    "\n",
    "train_data[\"FamilyNo\"] = train_data[\"SibSp\"] + train_data[\"Parch\"]\n",
    "test_data[\"FamilyNo\"] = test_data[\"SibSp\"] + test_data[\"Parch\"]\n",
    "\n",
    "\n",
    "# SVM classifier was overfitting\n",
    "from sklearn import svm\n",
    "clf = svm.SVC(C= 100, kernel=\"linear\")\n",
    "print(clf)\n",
    "from sklearn import cross_validation\n",
    "\n",
    "\n",
    "# one-hot-encoder for Pclass feature\n",
    "train_Pclass = one_hot_dataframe(train_data, \"Pclass\")\n",
    "# train_data = train_data.join(train_Pclass)\n",
    "\n",
    "test_Pclass = one_hot_dataframe(test_data, \"Pclass\")\n",
    "# test_data = test_data.join(test_Pclass)\n",
    "\n",
    "training_column = [\"Gender\",\"Pclass_3\", \"Pclass_1\", \"Pclass_2\", \"normalized_fare\", \"normalized_age\" , \"FamilyNo\"]\n",
    "scores = cross_validation.cross_val_score(clf, train_data[training_column], training_labels, cv=5)\n",
    "print(scores.mean())\n",
    "\n",
    "clf.fit(train_data[training_column], training_labels)\n",
    "\n",
    "predict_labels = clf.predict(train_data[training_column])\n",
    "train_score = accuracy_score(predict_labels, training_labels)\n",
    "print(train_score)\n",
    "\n",
    "predict_labels = clf.predict(test_data[training_column])\n",
    "append_test_df[\"Survived\"] = pd.Series(predict_labels)\n",
    "write_to_csv(append_test_df, \"sex_fare_pclass_svm_linear.csv\")"
   ]
  },
  {
   "cell_type": "raw",
   "metadata": {},
   "source": []
  }
 ],
 "metadata": {
  "kernelspec": {
   "display_name": "Python 2",
   "language": "python",
   "name": "python2"
  },
  "language_info": {
   "codemirror_mode": {
    "name": "ipython",
    "version": 2
   },
   "file_extension": ".py",
   "mimetype": "text/x-python",
   "name": "python",
   "nbconvert_exporter": "python",
   "pygments_lexer": "ipython2",
   "version": "2.7.10"
  }
 },
 "nbformat": 4,
 "nbformat_minor": 0
}
