{
 "cells": [
  {
   "cell_type": "code",
   "execution_count": 49,
   "metadata": {
    "collapsed": true
   },
   "outputs": [],
   "source": [
    "import numpy as np # linear algebra\n",
    "import pandas as pd # data processing, CSV file I/O (e.g. pd.read_csv)\n",
    "import io\n",
    "import bson                       # this is installed with the pymongo package\n",
    "import matplotlib.pyplot as plt\n",
    "from skimage.data import imread   # or, whatever image library you prefer\n",
    "import multiprocessing as mp      # will come in handy due to the size of the data\n",
    "import csv"
   ]
  },
  {
   "cell_type": "code",
   "execution_count": 45,
   "metadata": {
    "collapsed": true
   },
   "outputs": [],
   "source": [
    "# Simple data processing\n",
    "\n",
    "data = bson.decode_file_iter(open('./input/train_example.bson', 'rb'))\n",
    "\n",
    "# prod_to_category = dict()\n",
    "\n",
    "# for c, d in enumerate(data):\n",
    "#     product_id = d['_id']\n",
    "#     category_id = d['category_id'] # This won't be in Test data\n",
    "#     prod_to_category[product_id] = category_id\n",
    "#     for e, pic in enumerate(d['imgs']):\n",
    "#         picture = imread(io.BytesIO(pic['picture']))\n",
    "#         # do something with the picture, etc\n",
    "\n",
    "# prod_to_category = pd.DataFrame.from_dict(prod_to_category, orient='index')\n",
    "# prod_to_category.index.name = '_id'\n",
    "# prod_to_category.rename(columns={0: 'category_id'}, inplace=True)"
   ]
  },
  {
   "cell_type": "code",
   "execution_count": 93,
   "metadata": {},
   "outputs": [
    {
     "name": "stdout",
     "output_type": "stream",
     "text": [
      "['category_id', 'category_level1', 'category_level2', 'category_level3']\n"
     ]
    },
    {
     "data": {
      "text/plain": [
       "['1000015539',\n",
       " 'BRICOLAGE - OUTILLAGE - QUINCAILLERIE',\n",
       " 'SECURITE MAISON',\n",
       " 'ALARME AUTONOME']"
      ]
     },
     "execution_count": 93,
     "metadata": {},
     "output_type": "execute_result"
    }
   ],
   "source": [
    "with open('./input/category_names.csv', 'r') as f:\n",
    "    reader = csv.reader(f)\n",
    "    category_names_list = list(reader)\n",
    "print(category_names_list[0])\n",
    "category_names = {}\n",
    "for category in category_names_list[1:]:\n",
    "    category_names[category[0]] = category\n",
    "#     print(category[1])\n",
    "category_names[\"1000015539\"]"
   ]
  },
  {
   "cell_type": "code",
   "execution_count": 131,
   "metadata": {},
   "outputs": [
    {
     "name": "stdout",
     "output_type": "stream",
     "text": [
      "69 ['1000010653', 'TELEPHONIE - GPS', 'ACCESSOIRE TELEPHONE', 'COQUE TELEPHONE - BUMPER TELEPHONE']\n"
     ]
    },
    {
     "data": {
      "image/png": "[encoded data removed]",
      "text/plain": [
       "<matplotlib.figure.Figure at 0x7fe646bdf668>"
      ]
     },
     "metadata": {},
     "output_type": "display_data"
    }
   ],
   "source": [
    "product = next(data)\n",
    "imgs = product['imgs']\n",
    "product_id = product['_id']\n",
    "category_id = product['category_id']\n",
    "print(product_id, category_names[str(category_id)])\n",
    "picture=imread(io.BytesIO(imgs[0]['picture']))\n",
    "plt.imshow(picture);"
   ]
  },
  {
   "cell_type": "code",
   "execution_count": null,
   "metadata": {
    "collapsed": true
   },
   "outputs": [],
   "source": []
  },
  {
   "cell_type": "code",
   "execution_count": null,
   "metadata": {
    "collapsed": true
   },
   "outputs": [],
   "source": []
  },
  {
   "cell_type": "code",
   "execution_count": null,
   "metadata": {
    "collapsed": true
   },
   "outputs": [],
   "source": []
  },
  {
   "cell_type": "code",
   "execution_count": null,
   "metadata": {
    "collapsed": true
   },
   "outputs": [],
   "source": []
  },
  {
   "cell_type": "code",
   "execution_count": null,
   "metadata": {
    "collapsed": true
   },
   "outputs": [],
   "source": []
  }
 ],
 "metadata": {
  "kernelspec": {
   "display_name": "Python 3",
   "language": "python",
   "name": "python3"
  },
  "language_info": {
   "codemirror_mode": {
    "name": "ipython",
    "version": 3
   },
   "file_extension": ".py",
   "mimetype": "text/x-python",
   "name": "python",
   "nbconvert_exporter": "python",
   "pygments_lexer": "ipython3",
   "version": "3.6.1"
  }
 },
 "nbformat": 4,
 "nbformat_minor": 2
}
